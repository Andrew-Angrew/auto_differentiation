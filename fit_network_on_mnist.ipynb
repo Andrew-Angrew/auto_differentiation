{
 "cells": [
  {
   "cell_type": "code",
   "execution_count": 1,
   "metadata": {},
   "outputs": [],
   "source": [
    "from sklearn.datasets import load_digits\n",
    "from sklearn.model_selection import train_test_split\n",
    "from sklearn.metrics import accuracy_score\n",
    "from matplotlib import pyplot as plt\n",
    "import numpy as np\n",
    "\n",
    "from optimizer import Optimizer\n",
    "from network import build_shallow_network, cross_entropy_loss"
   ]
  },
  {
   "cell_type": "code",
   "execution_count": 2,
   "metadata": {},
   "outputs": [
    {
     "data": {
      "image/png": "[encoded data removed]",
      "text/plain": [
       "<Figure size 1152x720 with 10 Axes>"
      ]
     },
     "metadata": {},
     "output_type": "display_data"
    }
   ],
   "source": [
    "X, y = load_digits(return_X_y=True)\n",
    "X /= 16\n",
    "\n",
    "plt.figure(\"figsize\", (16, 10))\n",
    "for i in range(10):\n",
    "    plt.subplot(2, 5, i + 1)\n",
    "    plt.xlabel(str(y[i]))\n",
    "    plt.xticks([])\n",
    "    plt.yticks([])\n",
    "    plt.imshow(X[i].reshape((8, 8)), cmap=plt.cm.binary)\n",
    "plt.show()"
   ]
  },
  {
   "cell_type": "code",
   "execution_count": 3,
   "metadata": {},
   "outputs": [
    {
     "name": "stdout",
     "output_type": "stream",
     "text": [
      "dataset shape: (1797, 64), classes count: 10\n",
      "(1167, 64)\n",
      "(130, 64)\n",
      "(500, 64)\n"
     ]
    }
   ],
   "source": [
    "random_state = np.random.RandomState(0)\n",
    "print(\"dataset shape: {}, classes count: {}\".format(X.shape, len(set(y))))\n",
    "test_size = 500\n",
    "validation_part = 0.1\n",
    "X, X_test, y, y_test = train_test_split(\n",
    "    X, y, test_size=test_size, random_state=random_state\n",
    ")\n",
    "X_train, X_validation, y_train, y_validation = train_test_split(\n",
    "    X, y, test_size=validation_part, random_state=random_state\n",
    ")\n",
    "print(X_train.shape)\n",
    "print(X_validation.shape)\n",
    "print(X_test.shape)"
   ]
  },
  {
   "cell_type": "code",
   "execution_count": 4,
   "metadata": {
    "scrolled": false
   },
   "outputs": [
    {
     "name": "stdout",
     "output_type": "stream",
     "text": [
      "epoch 1:   train loss: 1.9803    validation loss: 1.5489    \n",
      "epoch 2:   train loss: 1.3479    validation loss: 1.1077    \n",
      "epoch 3:   train loss: 0.99013   validation loss: 0.87368   \n",
      "epoch 4:   train loss: 0.80338   validation loss: 0.72638   \n",
      "epoch 5:   train loss: 0.67341   validation loss: 0.62435   \n",
      "epoch 6:   train loss: 0.59339   validation loss: 0.55999   \n",
      "epoch 7:   train loss: 0.523     validation loss: 0.50839   \n",
      "epoch 8:   train loss: 0.487     validation loss: 0.46658   \n",
      "epoch 9:   train loss: 0.45048   validation loss: 0.43975   \n",
      "epoch 10:  train loss: 0.40808   validation loss: 0.41333   \n",
      "epoch 11:  train loss: 0.39181   validation loss: 0.397     \n",
      "epoch 12:  train loss: 0.35775   validation loss: 0.37495   \n",
      "epoch 13:  train loss: 0.34205   validation loss: 0.36332   \n",
      "epoch 14:  train loss: 0.347     validation loss: 0.34522   \n",
      "epoch 15:  train loss: 0.32199   validation loss: 0.33447   \n",
      "epoch 16:  train loss: 0.31127   validation loss: 0.32197   \n",
      "epoch 17:  train loss: 0.2943    validation loss: 0.3135    \n",
      "epoch 18:  train loss: 0.29238   validation loss: 0.30737   \n",
      "epoch 19:  train loss: 0.28404   validation loss: 0.29895   \n",
      "epoch 20:  train loss: 0.26984   validation loss: 0.29221   \n",
      "epoch 21:  train loss: 0.25571   validation loss: 0.28895   \n",
      "epoch 22:  train loss: 0.26386   validation loss: 0.2801    \n",
      "epoch 23:  train loss: 0.25583   validation loss: 0.27532   \n",
      "epoch 24:  train loss: 0.23888   validation loss: 0.2691    \n",
      "epoch 25:  train loss: 0.24539   validation loss: 0.26397   \n",
      "epoch 26:  train loss: 0.23876   validation loss: 0.26182   \n",
      "epoch 27:  train loss: 0.23167   validation loss: 0.25623   \n",
      "epoch 28:  train loss: 0.22948   validation loss: 0.25373   \n",
      "epoch 29:  train loss: 0.21807   validation loss: 0.25065   \n",
      "epoch 30:  train loss: 0.2174    validation loss: 0.24631   \n",
      "epoch 31:  train loss: 0.22082   validation loss: 0.2423    \n",
      "epoch 32:  train loss: 0.21172   validation loss: 0.24323   \n",
      "epoch 33:  train loss: 0.20456   validation loss: 0.24079   \n",
      "epoch 34:  train loss: 0.19868   validation loss: 0.23658   \n",
      "epoch 35:  train loss: 0.19392   validation loss: 0.2356    \n",
      "epoch 36:  train loss: 0.20263   validation loss: 0.23206   \n",
      "epoch 37:  train loss: 0.19571   validation loss: 0.23084   \n",
      "epoch 38:  train loss: 0.18494   validation loss: 0.22753   \n",
      "epoch 39:  train loss: 0.1848    validation loss: 0.22455   \n",
      "epoch 40:  train loss: 0.18198   validation loss: 0.22227   \n",
      "epoch 41:  train loss: 0.176     validation loss: 0.22135   \n",
      "epoch 42:  train loss: 0.18236   validation loss: 0.22146   \n",
      "epoch 43:  train loss: 0.18583   validation loss: 0.22094   \n",
      "epoch 44:  train loss: 0.18145   validation loss: 0.21936   \n",
      "epoch 45:  train loss: 0.16803   validation loss: 0.21745   \n",
      "epoch 46:  train loss: 0.17414   validation loss: 0.2153    \n",
      "epoch 47:  train loss: 0.16981   validation loss: 0.21392   \n",
      "epoch 48:  train loss: 0.1681    validation loss: 0.21289   \n",
      "epoch 49:  train loss: 0.16583   validation loss: 0.20976   \n",
      "epoch 50:  train loss: 0.15989   validation loss: 0.20917   \n",
      "epoch 51:  train loss: 0.16336   validation loss: 0.20709   \n",
      "epoch 52:  train loss: 0.16179   validation loss: 0.20657   \n",
      "epoch 53:  train loss: 0.15732   validation loss: 0.2051    \n",
      "epoch 54:  train loss: 0.15278   validation loss: 0.20555   \n",
      "epoch 55:  train loss: 0.15104   validation loss: 0.20384   \n",
      "epoch 56:  train loss: 0.15428   validation loss: 0.2033    \n",
      "epoch 57:  train loss: 0.14759   validation loss: 0.202     \n",
      "epoch 58:  train loss: 0.1546    validation loss: 0.20068   \n",
      "epoch 59:  train loss: 0.15548   validation loss: 0.19955   \n",
      "epoch 60:  train loss: 0.15114   validation loss: 0.19735   \n",
      "epoch 61:  train loss: 0.14356   validation loss: 0.1977    \n",
      "epoch 62:  train loss: 0.14821   validation loss: 0.19764   \n",
      "epoch 63:  train loss: 0.14802   validation loss: 0.19527   \n",
      "epoch 64:  train loss: 0.14557   validation loss: 0.19448   \n",
      "epoch 65:  train loss: 0.14648   validation loss: 0.19436   \n",
      "epoch 66:  train loss: 0.14361   validation loss: 0.1934    \n",
      "epoch 67:  train loss: 0.14258   validation loss: 0.1929    \n",
      "epoch 68:  train loss: 0.13659   validation loss: 0.19246   \n",
      "epoch 69:  train loss: 0.13735   validation loss: 0.19199   \n",
      "epoch 70:  train loss: 0.13731   validation loss: 0.19082   \n",
      "epoch 71:  train loss: 0.13731   validation loss: 0.19046   \n",
      "epoch 72:  train loss: 0.1337    validation loss: 0.18873   \n",
      "epoch 73:  train loss: 0.12964   validation loss: 0.18917   \n",
      "epoch 74:  train loss: 0.13946   validation loss: 0.18914   \n",
      "epoch 75:  train loss: 0.13085   validation loss: 0.18826   \n",
      "epoch 76:  train loss: 0.12861   validation loss: 0.18737   \n",
      "epoch 77:  train loss: 0.13599   validation loss: 0.18787   \n",
      "epoch 78:  train loss: 0.12987   validation loss: 0.18561   \n",
      "epoch 79:  train loss: 0.12635   validation loss: 0.18504   \n",
      "epoch 80:  train loss: 0.12574   validation loss: 0.18457   \n",
      "epoch 81:  train loss: 0.12921   validation loss: 0.18369   \n",
      "epoch 82:  train loss: 0.12417   validation loss: 0.18489   \n",
      "epoch 83:  train loss: 0.12883   validation loss: 0.18447   \n",
      "epoch 84:  train loss: 0.12973   validation loss: 0.1845    \n",
      "epoch 85:  train loss: 0.12464   validation loss: 0.1838    \n",
      "epoch 86:  train loss: 0.11853   validation loss: 0.18275   \n",
      "epoch 87:  train loss: 0.12337   validation loss: 0.18289   \n",
      "epoch 88:  train loss: 0.12455   validation loss: 0.1828    \n",
      "epoch 89:  train loss: 0.11686   validation loss: 0.18256   \n",
      "epoch 90:  train loss: 0.11735   validation loss: 0.18301   \n",
      "epoch 91:  train loss: 0.11025   validation loss: 0.18149   \n",
      "epoch 92:  train loss: 0.11595   validation loss: 0.17977   \n",
      "epoch 93:  train loss: 0.11897   validation loss: 0.17929   \n",
      "epoch 94:  train loss: 0.11935   validation loss: 0.18048   \n",
      "epoch 95:  train loss: 0.11454   validation loss: 0.1797    \n",
      "epoch 96:  train loss: 0.11819   validation loss: 0.17865   \n",
      "epoch 97:  train loss: 0.12222   validation loss: 0.17809   \n",
      "epoch 98:  train loss: 0.11646   validation loss: 0.17927   \n",
      "epoch 99:  train loss: 0.10947   validation loss: 0.1774    \n",
      "epoch 100: train loss: 0.112     validation loss: 0.17697   \n"
     ]
    }
   ],
   "source": [
    "model = build_shallow_network(X.shape[1], 10)\n",
    "loss_function = cross_entropy_loss(10)\n",
    "opt = Optimizer(model, loss_function)\n",
    "model = opt.fit(\n",
    "    X_train, y_train, eval_set=(X_validation, y_validation),\n",
    "    n_epochs=100, learning_rate=1, batch_size=200\n",
    ")"
   ]
  },
  {
   "cell_type": "code",
   "execution_count": 5,
   "metadata": {},
   "outputs": [
    {
     "data": {
      "image/png": "[encoded data removed]",
      "text/plain": [
       "<Figure size 432x288 with 1 Axes>"
      ]
     },
     "metadata": {
      "needs_background": "light"
     },
     "output_type": "display_data"
    },
    {
     "name": "stdout",
     "output_type": "stream",
     "text": [
      "test accuracy:       0.968\n",
      "train accuracy:      0.9837189374464439\n",
      "validation accuracy: 0.9384615384615385\n"
     ]
    }
   ],
   "source": [
    "plt.plot(opt.validation_err_log, label=\"validation\")\n",
    "best_iteration = np.argmin(opt.validation_err_log)\n",
    "plt.scatter(best_iteration, opt.validation_err_log[best_iteration])\n",
    "plt.plot(opt.train_err_log, label=\"train\")\n",
    "plt.legend()\n",
    "plt.show()\n",
    "\n",
    "def calc_accuracy(model, X, y):\n",
    "    predicted_probs = np.array(model(X.T))\n",
    "    y_prected = np.argmax(predicted_probs, axis=0)\n",
    "    return accuracy_score(y, y_prected)\n",
    "\n",
    "print(\"test accuracy:       {}\".format(calc_accuracy(model, X_test, y_test)))\n",
    "print(\"train accuracy:      {}\".format(calc_accuracy(model, X_train, y_train)))\n",
    "print(\"validation accuracy: {}\".format(calc_accuracy(model, X_validation, y_validation)))"
   ]
  },
  {
   "cell_type": "code",
   "execution_count": null,
   "metadata": {},
   "outputs": [],
   "source": []
  }
 ],
 "metadata": {
  "kernelspec": {
   "display_name": "Python 3",
   "language": "python",
   "name": "python3"
  },
  "language_info": {
   "codemirror_mode": {
    "name": "ipython",
    "version": 3
   },
   "file_extension": ".py",
   "mimetype": "text/x-python",
   "name": "python",
   "nbconvert_exporter": "python",
   "pygments_lexer": "ipython3",
   "version": "3.7.3"
  }
 },
 "nbformat": 4,
 "nbformat_minor": 2
}
